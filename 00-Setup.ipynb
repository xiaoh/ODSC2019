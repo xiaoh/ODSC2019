{
 "cells": [
  {
   "cell_type": "code",
   "execution_count": 1,
   "metadata": {},
   "outputs": [
    {
     "ename": "Pkg.Types.PkgError",
     "evalue": "`Trebuchet#master` is not a valid package name",
     "output_type": "error",
     "traceback": [
      "`Trebuchet#master` is not a valid package name",
      "",
      "Stacktrace:",
      " [1] pkgerror(::String) at /Applications/JuliaPro-1.4.2-1.app/Contents/Resources/julia/Contents/Resources/julia/lib/julia/sys.dylib:?",
      " [2] check_package_name(::String, ::Symbol) at /Applications/JuliaPro-1.4.2-1.app/Contents/Resources/julia/Contents/Resources/julia/lib/julia/sys.dylib:?",
      " [3] collect_to_with_first!(::Array{Pkg.Types.PackageSpec,1}, ::Pkg.Types.PackageSpec, ::Base.Generator{Array{String,1},Pkg.API.var\"#25#26\"}, ::Int64) at /Applications/JuliaPro-1.4.2-1.app/Contents/Resources/julia/Contents/Resources/julia/lib/julia/sys.dylib:?",
      " [4] collect(::Base.Generator{Array{String,1},Pkg.API.var\"#25#26\"}) at /Applications/JuliaPro-1.4.2-1.app/Contents/Resources/julia/Contents/Resources/julia/lib/julia/sys.dylib:?",
      " [5] #add#24 at /Users/vagrant/worker/juliapro-release-osx1011-0_6/build/tmp_julia/Julia-1.4.app/Contents/Resources/julia/share/julia/stdlib/v1.4/Pkg/src/API.jl:107 [inlined]",
      " [6] add(::Array{String,1}) at /Users/vagrant/worker/juliapro-release-osx1011-0_6/build/tmp_julia/Julia-1.4.app/Contents/Resources/julia/share/julia/stdlib/v1.4/Pkg/src/API.jl:107",
      " [7] top-level scope at In[1]:3"
     ]
    }
   ],
   "source": [
    "# Install packages\n",
    "using Pkg\n",
    "Pkg.add([\"Flux\",\"Zygote\",\"Trebuchet#master\",\"Images\",\"ImageMagick\"])"
   ]
  },
  {
   "cell_type": "code",
   "execution_count": null,
   "metadata": {},
   "outputs": [],
   "source": [
    "# On Julia v1.3rc5, use Flux#master"
   ]
  },
  {
   "cell_type": "code",
   "execution_count": null,
   "metadata": {},
   "outputs": [],
   "source": [
    "# Load them so they are precompiled\n",
    "using Flux, Zygote, Trebuchet, Images, ImageMagick"
   ]
  },
  {
   "cell_type": "code",
   "execution_count": null,
   "metadata": {},
   "outputs": [],
   "source": []
  }
 ],
 "metadata": {
  "@webio": {
   "lastCommId": null,
   "lastKernelId": null
  },
  "kernelspec": {
   "display_name": "Julia 1.4",
   "language": "julia",
   "name": "juliapro_v1.4.2-1-1.4"
  },
  "language_info": {
   "file_extension": ".jl",
   "mimetype": "application/julia",
   "name": "julia",
   "version": "1.4.2"
  }
 },
 "nbformat": 4,
 "nbformat_minor": 2
}
